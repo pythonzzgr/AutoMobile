{
 "cells": [
  {
   "cell_type": "code",
   "execution_count": 16,
   "id": "d13edbba",
   "metadata": {},
   "outputs": [],
   "source": [
    "import os\n",
    "import tensorflow as tf\n",
    "from tensorflow import keras\n",
    "from keras.preprocessing.image import ImageDataGenerator\n",
    "from keras.utils import load_img,array_to_img, img_to_array"
   ]
  },
  {
   "cell_type": "code",
   "execution_count": null,
   "id": "c62c7e65",
   "metadata": {},
   "outputs": [],
   "source": [
    "generator = ImageDataGenerator(rescale=1./255)\n",
    "generator = ImageDataGenerator(rescale=1./255, rotation_range=20, shear_range=0.5, \n",
    "                                  width_shift_range=0.1,height_shift_range=0.1, \n",
    "                                  horizontal_flip=True, vertical_flip=True, fill_mode='nearest')\n",
    "\n",
    "filename_in_dir = [] \n",
    "cars = os.listdir('./data/')\n",
    "for carname in cars:\n",
    "    for root, dirs, files in os.walk(f'./data/{carname}'):\n",
    "        for  fname in files:\n",
    "            full_fname = os.path.join(root, fname)\n",
    "            filename_in_dir.append(full_fname)\n",
    "    for file_image in filename_in_dir:\n",
    "        print (file_image)\n",
    "        img = load_img(file_image) \n",
    "        x = img_to_array(img)\n",
    "        x = x.reshape((1,) + x.shape)\n",
    "\n",
    "        i = 0\n",
    "\n",
    "        for batch in generator.flow(x, save_to_dir=f'./data/{carname}/', save_prefix=f'{carname}', save_format='jpg'):\n",
    "            i += 1\n",
    "            if i > 6:\n",
    "                break"
   ]
  }
 ],
 "metadata": {
  "kernelspec": {
   "display_name": "machine",
   "language": "python",
   "name": "python3"
  },
  "language_info": {
   "codemirror_mode": {
    "name": "ipython",
    "version": 3
   },
   "file_extension": ".py",
   "mimetype": "text/x-python",
   "name": "python",
   "nbconvert_exporter": "python",
   "pygments_lexer": "ipython3",
   "version": "3.9.13"
  },
  "vscode": {
   "interpreter": {
    "hash": "ba36d0bac3973a45270dac29dd7867478d264cacedda49a3de9c10c6ae4d60ef"
   }
  }
 },
 "nbformat": 4,
 "nbformat_minor": 5
}
