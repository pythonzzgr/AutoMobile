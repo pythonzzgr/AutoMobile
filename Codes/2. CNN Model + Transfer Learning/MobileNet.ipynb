{
  "cells": [
    {
      "cell_type": "code",
      "execution_count": null,
      "metadata": {},
      "outputs": [],
      "source": [
        "import os\n",
        "import glob\n",
        "import numpy as np\n",
        "import pandas as pd\n",
        "import matplotlib.pyplot as plt\n",
        "import pathlib\n",
        "\n",
        "import tensorflow as tf\n",
        "from keras.layers import Conv2D, MaxPooling2D, Flatten\n",
        "from keras.layers import Dense, Dropout, Input,Activation\n",
        "from keras.models import Model\n",
        "from keras import optimizers, initializers, regularizers, metrics\n",
        "from keras.utils import to_categorical\n",
        "from keras.models import Sequential\n",
        "from tensorflow import keras\n",
        "from keras import layers"
      ]
    },
    {
      "cell_type": "code",
      "execution_count": null,
      "metadata": {},
      "outputs": [],
      "source": [
        "data_dir = '/content/drive/MyDrive/python/TRAIN' # (본인 자동차 이미지 폴더 경로)\n",
        "\n",
        "train_ds = tf.keras.preprocessing.image_dataset_from_directory( data_dir, validation_split=0.2, subset='training', labels='inferred',\n",
        "                                                               label_mode='categorical', image_size=[224, 224], seed=123, interpolation='nearest', batch_size=64, shuffle=True )\n",
        "\n",
        "val_ds = tf.keras.preprocessing.image_dataset_from_directory( data_dir, validation_split=0.2, subset='validation', labels='inferred',\n",
        "                                                             label_mode='categorical', image_size=[224, 224], seed=123, interpolation='nearest', batch_size=64, shuffle=False )\n"
      ]
    },
    {
      "cell_type": "code",
      "execution_count": null,
      "metadata": {},
      "outputs": [],
      "source": [
        "def convert_to_float(image, label):\n",
        "  image = tf.image.convert_image_dtype(image, dtype=tf.float32)\n",
        "  return image, label\n",
        "\n",
        "AUTOTUNE = tf.data.experimental.AUTOTUNE \n",
        "train_ds = (train_ds.map(convert_to_float).cache().prefetch(buffer_size=AUTOTUNE)) \n",
        "val_ds = (val_ds.map(convert_to_float).cache().prefetch(buffer_size=AUTOTUNE))"
      ]
    },
    {
      "cell_type": "code",
      "execution_count": null,
      "metadata": {},
      "outputs": [],
      "source": [
        "# transfer learning\n",
        "from keras.applications import MobileNet\n",
        "transfer_model = MobileNet(weights='imagenet', include_top=False, input_shape=(224,224,3)) # (본인이 전이학습 할 모델로 세팅)\n",
        "\n",
        "for layer in transfer_model.layers: layer.trainable = True "
      ]
    },
    {
      "cell_type": "code",
      "execution_count": null,
      "metadata": {
        "colab": {
          "base_uri": "https://localhost:8080/"
        },
        "id": "SrGpSzoISo0T",
        "outputId": "b0d2f766-a419-4324-fcd4-20911622c0c3"
      },
      "outputs": [],
      "source": [
        "model = Sequential()\n",
        "\n",
        "model.add(tf.keras.layers.experimental.preprocessing.Rescaling(1./255, input_shape=(224,224,3)))\n",
        "\n",
        "model.add(transfer_model)\n",
        "\n",
        "model.add(Conv2D(16, 3, padding='same', activation='relu')) \n",
        "model.add(MaxPooling2D(padding='same'))\n",
        "model.add(Dropout(0.2)) \n",
        "\n",
        "model.add(Conv2D(32, 3, padding='same', activation='relu')) \n",
        "model.add(MaxPooling2D(padding='same'))\n",
        "\n",
        "model.add(Conv2D(64, 3, padding='same', activation='relu')) \n",
        "model.add(MaxPooling2D(padding='same'))\n",
        "model.add(Dropout(0.2)) \n",
        "\n",
        "model.add(Flatten())\n",
        "\n",
        "model.add(Dense(128, activation='relu'))\n",
        "model.add(Dense(33 , activation = 'softmax'))\n",
        "\n",
        "model.compile(loss=tf.keras.losses.categorical_crossentropy, optimizer=tf.keras.optimizers.Adam(learning_rate=0.0001), metrics=['accuracy'])"
      ]
    },
    {
      "cell_type": "code",
      "execution_count": null,
      "metadata": {},
      "outputs": [],
      "source": [
        "history = model.fit(train_ds,batch_size=64, epochs=20,validation_data=val_ds)"
      ]
    },
    {
      "cell_type": "code",
      "execution_count": null,
      "metadata": {
        "colab": {
          "base_uri": "https://localhost:8080/"
        },
        "id": "_Wr9ypHWg8Pu",
        "outputId": "d84d14d2-c058-4856-cccb-21a422a10175"
      },
      "outputs": [],
      "source": [
        "model.evaluate(train_ds), model.evaluate(val_ds)"
      ]
    },
    {
      "cell_type": "code",
      "execution_count": null,
      "metadata": {
        "colab": {
          "base_uri": "https://localhost:8080/",
          "height": 675
        },
        "id": "0tBPqumpS271",
        "outputId": "f2303a3b-23cf-4f19-9fc2-4223ed54a068"
      },
      "outputs": [],
      "source": [
        "# visualization\n",
        "plt.style.use('fivethirtyeight')\n",
        "fig,axes=plt.subplots(nrows=1, ncols=2, figsize=(20,10))\n",
        "axes[0].plot(history.history[\"loss\"], 'r', label='Training loss')\n",
        "axes[0].plot(history.history[\"val_loss\"],'g',label='Validation loss' )\n",
        "axes[0].set_title('MobileNet freeze 38 Training and Validation Loss')\n",
        "axes[0].set_xlabel('Epochs')\n",
        "axes[0].set_ylabel('Loss')\n",
        "axes[0].legend()\n",
        "plt.ylim(-0.05,1.0)\n",
        "axes[1].plot (history.history[\"accuracy\"],'r',label= 'Training Accuracy')\n",
        "axes[1].plot (history.history[\"val_accuracy\"],'g',label= 'Validation Accuracy')\n",
        "axes[1].set_title('MobileNet freeze 38 Training and Validation Accuracy')\n",
        "axes[1].set_xlabel('Epochs')\n",
        "axes[1].set_ylabel('Accuracy')\n",
        "axes[1].legend()\n",
        "plt.savefig(\"/content/drive/MyDrive/Colab Notebooks/MobileNet freeze 38.jpg\")"
      ]
    },
    {
      "cell_type": "code",
      "execution_count": null,
      "metadata": {
        "id": "Ruh0f84vntfL"
      },
      "outputs": [],
      "source": []
    }
  ],
  "metadata": {
    "accelerator": "GPU",
    "colab": {
      "provenance": []
    },
    "gpuClass": "standard",
    "kernelspec": {
      "display_name": "Python 3",
      "language": "python",
      "name": "python3"
    },
    "language_info": {
      "name": "python",
      "version": "3.10.6 (v3.10.6:9c7b4bd164, Aug  1 2022, 17:13:48) [Clang 13.0.0 (clang-1300.0.29.30)]"
    },
    "vscode": {
      "interpreter": {
        "hash": "aee8b7b246df8f9039afb4144a1f6fd8d2ca17a180786b69acc140d282b71a49"
      }
    }
  },
  "nbformat": 4,
  "nbformat_minor": 0
}
