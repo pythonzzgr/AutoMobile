{
  "cells": [
    {
      "cell_type": "code",
      "execution_count": 1,
      "metadata": {
        "id": "tG2UVl3FIY-G"
      },
      "outputs": [],
      "source": [
        "import pandas as pd\n",
        "import pathlib\n",
        "import glob\n",
        "import os\n",
        "import random\n",
        "import cv2\n",
        "import numpy as np\n",
        "import matplotlib.pyplot as plt\n",
        "import seaborn as sns\n",
        "from sklearn.model_selection import train_test_split\n",
        "\n",
        "import tensorflow as tf\n",
        "from tensorflow import keras\n",
        "from keras.optimizers import RMSprop, Adam\n",
        "from keras.layers import Dense,Flatten , Conv2D , MaxPooling2D , Dropout, Rescaling\n",
        "from keras.models import Model , Sequential\n",
        "from keras.callbacks import EarlyStopping\n",
        "from keras.utils import image_dataset_from_directory"
      ]
    },
    {
      "cell_type": "code",
      "execution_count": null,
      "metadata": {
        "colab": {
          "base_uri": "https://localhost:8080/"
        },
        "id": "6IWLpO8_IvpG",
        "outputId": "3960f066-7c50-4b53-c4e3-62edfddfb612"
      },
      "outputs": [],
      "source": [
        "data_dir = '../data/'\n",
        "train_ds = tf.keras.preprocessing.image_dataset_from_directory(\n",
        "    data_dir,\n",
        "    validation_split=0.2,\n",
        "    subset='training',\n",
        "    labels='inferred',\n",
        "    label_mode='categorical',\n",
        "    image_size=[224, 224],\n",
        "    seed=123,\n",
        "    interpolation='nearest',\n",
        "    batch_size=64,\n",
        "    shuffle=True,\n",
        ")\n",
        "\n",
        "val_ds = tf.keras.preprocessing.image_dataset_from_directory(\n",
        "    data_dir,\n",
        "    validation_split=0.2,\n",
        "    subset='validation',\n",
        "    labels='inferred',\n",
        "    label_mode='categorical',\n",
        "    image_size=[224, 224],\n",
        "    seed=123,\n",
        "    interpolation='nearest',\n",
        "    batch_size=64,\n",
        "    shuffle=False,\n",
        ")"
      ]
    },
    {
      "cell_type": "code",
      "execution_count": 6,
      "metadata": {
        "id": "mUgmYrKuIvk3"
      },
      "outputs": [],
      "source": [
        "def convert_to_float(image, label):\n",
        "    image = tf.image.convert_image_dtype(image, dtype=tf.float32)\n",
        "    return image, label"
      ]
    },
    {
      "cell_type": "code",
      "execution_count": 7,
      "metadata": {
        "id": "wpGqDQ0TIvj0"
      },
      "outputs": [],
      "source": [
        "AUTOTUNE = tf.data.experimental.AUTOTUNE\n",
        "train_ds = (train_ds.map(convert_to_float).cache().prefetch(buffer_size=AUTOTUNE))\n",
        "val_ds = (val_ds.map(convert_to_float).cache().prefetch(buffer_size=AUTOTUNE))"
      ]
    },
    {
      "cell_type": "code",
      "execution_count": null,
      "metadata": {},
      "outputs": [],
      "source": [
        "from keras.applications.densenet import DenseNet121\n",
        "transfer_model = DenseNet121(weights='imagenet', include_top=False, input_shape=(224,224,3))\n",
        "\n",
        "num = 1\n",
        "for layer in transfer_model.layers:\n",
        "  if 'conv2d.Conv2D' in str(layer):\n",
        "    print(layer, num)\n",
        "  num += 1"
      ]
    },
    {
      "attachments": {},
      "cell_type": "markdown",
      "metadata": {
        "id": "D78HwSB3Yw_w"
      },
      "source": [
        "### DenseNet Freezing 108"
      ]
    },
    {
      "cell_type": "code",
      "execution_count": null,
      "metadata": {
        "colab": {
          "base_uri": "https://localhost:8080/"
        },
        "id": "nKvFno3AIvhS",
        "outputId": "4552bba6-4173-49b5-c6e3-5daf4c26e2f3"
      },
      "outputs": [],
      "source": [
        "num = 1\n",
        "for layer in transfer_model.layers:\n",
        "  if num >= 108:\n",
        "    layer.trainable = True\n",
        "  else:\n",
        "    layer.trainable = False\n",
        "  num += 1"
      ]
    },
    {
      "cell_type": "code",
      "execution_count": null,
      "metadata": {
        "id": "x7NwdCN8Ivcj"
      },
      "outputs": [],
      "source": [
        "model = Sequential()\n",
        "\n",
        "model.add(tf.keras.layers.experimental.preprocessing.Rescaling(1./255, input_shape=(224,224,3)))\n",
        "\n",
        "model.add(transfer_model)\n",
        "\n",
        "model.add(Conv2D(16, 3, padding='same', activation='relu'))\n",
        "model.add(MaxPooling2D(padding='same'))\n",
        "model.add(Dropout(0.2))\n",
        "\n",
        "model.add(Conv2D(32, 3, padding='same', activation='relu'))\n",
        "model.add(MaxPooling2D(padding='same'))\n",
        "\n",
        "model.add(Conv2D(64, 3, padding='same', activation='relu'))\n",
        "model.add(MaxPooling2D(padding='same'))\n",
        "model.add(Dropout(0.2))\n",
        "\n",
        "model.add(Flatten())\n",
        "\n",
        "model.add(Dense(128, activation='relu'))\n",
        "model.add(Dense(33 , activation = 'softmax'))\n",
        "# model.summary()\n",
        "\n",
        "model.compile(loss=tf.keras.losses.categorical_crossentropy, \n",
        "optimizer=Adam(learning_rate=0.0001), metrics=['accuracy'])"
      ]
    },
    {
      "cell_type": "code",
      "execution_count": null,
      "metadata": {
        "colab": {
          "base_uri": "https://localhost:8080/"
        },
        "id": "ikIF_vn7IvSV",
        "outputId": "296ebf12-a1b5-4be4-e8ee-6261e77f71a6"
      },
      "outputs": [],
      "source": [
        "history = model.fit(train_ds,batch_size=64,epochs=20,validation_data=val_ds)"
      ]
    },
    {
      "cell_type": "code",
      "execution_count": null,
      "metadata": {
        "colab": {
          "base_uri": "https://localhost:8080/"
        },
        "id": "MBArnRmFIvP0",
        "outputId": "5e7300a6-6d36-43a2-dce7-2d9c40f89cfc"
      },
      "outputs": [],
      "source": [
        "model.evaluate(train_ds), model.evaluate(val_ds)"
      ]
    },
    {
      "cell_type": "code",
      "execution_count": null,
      "metadata": {
        "colab": {
          "base_uri": "https://localhost:8080/",
          "height": 675
        },
        "id": "g37G_IK4IvNZ",
        "outputId": "f253ac3d-c2d7-4cad-b471-5d17fab0dec0"
      },
      "outputs": [],
      "source": [
        "plt.style.use('fivethirtyeight')\n",
        "fig,axes=plt.subplots(nrows=1, ncols=2, figsize=(20,10))\n",
        "axes[0].plot(history.history[\"loss\"], 'r', label='Training loss')\n",
        "axes[0].plot(history.history[\"val_loss\"],'g',label='Validation loss' )\n",
        "axes[0].set_title('DenseNet Freezing 108 Training and Validation Loss')\n",
        "axes[0].set_xlabel('Epochs')\n",
        "axes[0].set_ylabel('Loss')\n",
        "axes[0].legend()\n",
        "plt.ylim(-0.05,1.0)\n",
        "axes[1].plot (history.history[\"accuracy\"],'r',label= 'Training Accuracy')\n",
        "axes[1].plot (history.history[\"val_accuracy\"],'g',label= 'Validation Accuracy')\n",
        "axes[1].set_title('DenseNet Freezing 108 Training and Validation Accuracy')\n",
        "axes[1].set_xlabel('Epochs')\n",
        "axes[1].set_ylabel('Accuracy')\n",
        "axes[1].legend()\n",
        "\n",
        "plt.savefig(\"/content/drive/MyDrive/Colab Notebooks/DenseNet Freezing 108_graph.jpg\")"
      ]
    },
    {
      "attachments": {},
      "cell_type": "markdown",
      "metadata": {
        "id": "g5qbL1YeYtHY"
      },
      "source": [
        "### DenseNet Freezing 73"
      ]
    },
    {
      "cell_type": "code",
      "execution_count": null,
      "metadata": {
        "id": "9kHOq1riIvGx"
      },
      "outputs": [],
      "source": [
        "from keras.applications.densenet import DenseNet121\n",
        "transfer_model = DenseNet121(weights='imagenet', include_top=False, input_shape=(224,224,3))\n",
        "\n",
        "num = 1\n",
        "for layer in transfer_model.layers:\n",
        "  if num >= 73:\n",
        "    layer.trainable = True\n",
        "  else:\n",
        "    layer.trainable = False\n",
        "  num += 1"
      ]
    },
    {
      "cell_type": "code",
      "execution_count": null,
      "metadata": {
        "id": "t_BwO9PRYiAS"
      },
      "outputs": [],
      "source": [
        "model = Sequential()\n",
        "\n",
        "model.add(tf.keras.layers.experimental.preprocessing.Rescaling(1./255, input_shape=(224,224,3)))\n",
        "\n",
        "model.add(transfer_model)\n",
        "\n",
        "model.add(Conv2D(16, 3, padding='same', activation='relu'))\n",
        "model.add(MaxPooling2D(padding='same'))\n",
        "model.add(Dropout(0.2))\n",
        "\n",
        "model.add(Conv2D(32, 3, padding='same', activation='relu'))\n",
        "model.add(MaxPooling2D(padding='same'))\n",
        "\n",
        "model.add(Conv2D(64, 3, padding='same', activation='relu'))\n",
        "model.add(MaxPooling2D(padding='same'))\n",
        "model.add(Dropout(0.2))\n",
        "\n",
        "model.add(Flatten())\n",
        "\n",
        "model.add(Dense(128, activation='relu'))\n",
        "model.add(Dense(33 , activation = 'softmax'))\n",
        "\n",
        "model.compile(loss=tf.keras.losses.categorical_crossentropy, \n",
        "optimizer=Adam(learning_rate=0.0001), metrics=['accuracy'])"
      ]
    },
    {
      "cell_type": "code",
      "execution_count": null,
      "metadata": {
        "colab": {
          "base_uri": "https://localhost:8080/"
        },
        "id": "GGnuPG3-Yh7M",
        "outputId": "22b22636-81f6-4269-eaef-39c18d3e49ee"
      },
      "outputs": [],
      "source": [
        "history = model.fit(train_ds,batch_size=64,epochs=20,validation_data=val_ds)"
      ]
    },
    {
      "cell_type": "code",
      "execution_count": null,
      "metadata": {
        "colab": {
          "base_uri": "https://localhost:8080/"
        },
        "id": "8c2i3fRuYh5s",
        "outputId": "d84dc47d-0eac-4437-cdd0-396c04f92a79"
      },
      "outputs": [],
      "source": [
        "model.evaluate(train_ds), model.evaluate(val_ds)"
      ]
    },
    {
      "attachments": {},
      "cell_type": "markdown",
      "metadata": {
        "id": "m4EVABWysC3J"
      },
      "source": [
        "### DenseNet Freezing 140"
      ]
    },
    {
      "cell_type": "code",
      "execution_count": null,
      "metadata": {
        "id": "q0NAOlDbYh2Q"
      },
      "outputs": [],
      "source": [
        "from keras.applications.densenet import DenseNet121\n",
        "transfer_model = DenseNet121(weights='imagenet', include_top=False, input_shape=(224,224,3))"
      ]
    },
    {
      "cell_type": "code",
      "execution_count": null,
      "metadata": {
        "id": "5-OI9hOwYhz_"
      },
      "outputs": [],
      "source": [
        "num = 1\n",
        "for layer in transfer_model.layers:\n",
        "  if num >= 140:\n",
        "    layer.trainable = True\n",
        "  else:\n",
        "    layer.trainable = False\n",
        "  num += 1"
      ]
    },
    {
      "cell_type": "code",
      "execution_count": null,
      "metadata": {
        "id": "CJLsRmzdYhx6"
      },
      "outputs": [],
      "source": [
        "model = Sequential()\n",
        "\n",
        "model.add(tf.keras.layers.experimental.preprocessing.Rescaling(1./255, input_shape=(224,224,3)))\n",
        "\n",
        "model.add(transfer_model)\n",
        "\n",
        "model.add(Conv2D(16, 3, padding='same', activation='relu'))\n",
        "model.add(MaxPooling2D(padding='same'))\n",
        "model.add(Dropout(0.2))\n",
        "\n",
        "model.add(Conv2D(32, 3, padding='same', activation='relu'))\n",
        "model.add(MaxPooling2D(padding='same'))\n",
        "\n",
        "model.add(Conv2D(64, 3, padding='same', activation='relu'))\n",
        "model.add(MaxPooling2D(padding='same'))\n",
        "model.add(Dropout(0.2))\n",
        "\n",
        "model.add(Flatten())\n",
        "\n",
        "model.add(Dense(128, activation='relu'))\n",
        "model.add(Dense(33 , activation = 'softmax'))\n",
        "\n",
        "model.compile(loss=tf.keras.losses.categorical_crossentropy, \n",
        "optimizer=Adam(learning_rate=0.0001), metrics=['accuracy'])"
      ]
    },
    {
      "cell_type": "code",
      "execution_count": null,
      "metadata": {
        "colab": {
          "base_uri": "https://localhost:8080/"
        },
        "id": "Wd5dpsbOsLUa",
        "outputId": "6e134a24-ea38-4905-c437-45fa457f3ef0"
      },
      "outputs": [],
      "source": [
        "history = model.fit(train_ds,batch_size=64,epochs=20,validation_data=val_ds)"
      ]
    },
    {
      "cell_type": "code",
      "execution_count": null,
      "metadata": {
        "colab": {
          "base_uri": "https://localhost:8080/"
        },
        "id": "-o9DEHHAsSGY",
        "outputId": "0cead783-b06d-419e-f32a-156a62110edf"
      },
      "outputs": [],
      "source": [
        "model.evaluate(train_ds), model.evaluate(val_ds)"
      ]
    },
    {
      "attachments": {},
      "cell_type": "markdown",
      "metadata": {
        "id": "BYR3C9PbxtiL"
      },
      "source": [
        "### DenseNet Freezing 63"
      ]
    },
    {
      "cell_type": "code",
      "execution_count": null,
      "metadata": {
        "id": "JkMLmXElxqwi"
      },
      "outputs": [],
      "source": [
        "from keras.applications.densenet import DenseNet121\n",
        "base_model = DenseNet121(weights='imagenet', include_top=False, input_shape=(224,224,3))\n",
        "\n",
        "num = 1\n",
        "for layer in base_model.layers:\n",
        "  if num >= 63:\n",
        "    layer.trainable = True\n",
        "  else:\n",
        "    layer.trainable = False\n",
        "  num += 1"
      ]
    },
    {
      "cell_type": "code",
      "execution_count": null,
      "metadata": {
        "id": "nj7yi7nyx17e"
      },
      "outputs": [],
      "source": [
        "model = Sequential()\n",
        "\n",
        "model.add(tf.keras.layers.experimental.preprocessing.Rescaling(1./255, input_shape=(224,224,3)))\n",
        "\n",
        "model.add(base_model)\n",
        "\n",
        "model.add(Conv2D(16, 3, padding='same', activation='relu'))\n",
        "model.add(MaxPooling2D(padding='same'))\n",
        "model.add(Dropout(0.2))\n",
        "\n",
        "model.add(Conv2D(32, 3, padding='same', activation='relu'))\n",
        "model.add(MaxPooling2D(padding='same'))\n",
        "\n",
        "model.add(Conv2D(64, 3, padding='same', activation='relu'))\n",
        "model.add(MaxPooling2D(padding='same'))\n",
        "model.add(Dropout(0.2))\n",
        "\n",
        "model.add(Flatten())\n",
        "\n",
        "model.add(Dense(128, activation='relu'))\n",
        "model.add(Dense(33 , activation = 'softmax'))\n",
        "\n",
        "model.compile(loss=tf.keras.losses.categorical_crossentropy, \n",
        "optimizer=Adam(learning_rate=0.0001), metrics=['accuracy'])"
      ]
    },
    {
      "cell_type": "code",
      "execution_count": null,
      "metadata": {
        "colab": {
          "base_uri": "https://localhost:8080/"
        },
        "id": "DSsz5ndGyBQy",
        "outputId": "85a2148d-b9ec-4dce-c813-dca20720bf18"
      },
      "outputs": [],
      "source": [
        "history = model.fit(train_ds,batch_size=64,epochs=20,validation_data=val_ds)"
      ]
    },
    {
      "cell_type": "code",
      "execution_count": null,
      "metadata": {
        "colab": {
          "base_uri": "https://localhost:8080/"
        },
        "id": "UPYx6QoOyEKy",
        "outputId": "b060804e-110d-4781-c900-e474df23e20d"
      },
      "outputs": [],
      "source": [
        "model.evaluate(train_ds), model.evaluate(val_ds)"
      ]
    },
    {
      "attachments": {},
      "cell_type": "markdown",
      "metadata": {
        "id": "BYR3C9PbxtiL"
      },
      "source": [
        "### DenseNet Freezing 144"
      ]
    },
    {
      "cell_type": "code",
      "execution_count": null,
      "metadata": {
        "id": "JkMLmXElxqwi"
      },
      "outputs": [],
      "source": [
        "from keras.applications.densenet import DenseNet121\n",
        "base_model = DenseNet121(weights='imagenet', include_top=False, input_shape=(224,224,3))\n",
        "\n",
        "num = 1\n",
        "for layer in base_model.layers:\n",
        "  if num >= 144:\n",
        "    layer.trainable = True\n",
        "  else:\n",
        "    layer.trainable = False\n",
        "  num += 1"
      ]
    },
    {
      "cell_type": "code",
      "execution_count": null,
      "metadata": {
        "id": "nj7yi7nyx17e"
      },
      "outputs": [],
      "source": [
        "model = Sequential()\n",
        "\n",
        "model.add(tf.keras.layers.experimental.preprocessing.Rescaling(1./255, input_shape=(224,224,3)))\n",
        "\n",
        "model.add(base_model)\n",
        "\n",
        "model.add(Conv2D(16, 3, padding='same', activation='relu'))\n",
        "model.add(MaxPooling2D(padding='same'))\n",
        "model.add(Dropout(0.2))\n",
        "\n",
        "model.add(Conv2D(32, 3, padding='same', activation='relu'))\n",
        "model.add(MaxPooling2D(padding='same'))\n",
        "\n",
        "model.add(Conv2D(64, 3, padding='same', activation='relu'))\n",
        "model.add(MaxPooling2D(padding='same'))\n",
        "model.add(Dropout(0.2))\n",
        "\n",
        "model.add(Flatten())\n",
        "\n",
        "model.add(Dense(128, activation='relu'))\n",
        "model.add(Dense(33 , activation = 'softmax'))\n",
        "\n",
        "model.compile(loss=tf.keras.losses.categorical_crossentropy, \n",
        "optimizer=Adam(learning_rate=0.0001), metrics=['accuracy'])"
      ]
    },
    {
      "cell_type": "code",
      "execution_count": null,
      "metadata": {
        "colab": {
          "base_uri": "https://localhost:8080/"
        },
        "id": "DSsz5ndGyBQy",
        "outputId": "85a2148d-b9ec-4dce-c813-dca20720bf18"
      },
      "outputs": [],
      "source": [
        "history = model.fit(train_ds,batch_size=64,epochs=20,validation_data=val_ds)"
      ]
    },
    {
      "cell_type": "code",
      "execution_count": null,
      "metadata": {
        "colab": {
          "base_uri": "https://localhost:8080/"
        },
        "id": "UPYx6QoOyEKy",
        "outputId": "b060804e-110d-4781-c900-e474df23e20d"
      },
      "outputs": [],
      "source": [
        "model.evaluate(train_ds), model.evaluate(val_ds)"
      ]
    }
  ],
  "metadata": {
    "accelerator": "GPU",
    "colab": {
      "provenance": []
    },
    "gpuClass": "standard",
    "kernelspec": {
      "display_name": "machine",
      "language": "python",
      "name": "python3"
    },
    "language_info": {
      "codemirror_mode": {
        "name": "ipython",
        "version": 3
      },
      "file_extension": ".py",
      "mimetype": "text/x-python",
      "name": "python",
      "nbconvert_exporter": "python",
      "pygments_lexer": "ipython3",
      "version": "3.9.13"
    },
    "vscode": {
      "interpreter": {
        "hash": "ba36d0bac3973a45270dac29dd7867478d264cacedda49a3de9c10c6ae4d60ef"
      }
    }
  },
  "nbformat": 4,
  "nbformat_minor": 0
}
