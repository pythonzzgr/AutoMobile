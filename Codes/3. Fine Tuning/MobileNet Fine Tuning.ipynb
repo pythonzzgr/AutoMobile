{
  "cells": [
    {
      "cell_type": "code",
      "execution_count": null,
      "metadata": {
        "id": "tG2UVl3FIY-G"
      },
      "outputs": [],
      "source": [
        "import pandas as pd\n",
        "import pathlib\n",
        "import glob\n",
        "import os\n",
        "import random\n",
        "import cv2\n",
        "import numpy as np\n",
        "import matplotlib.pyplot as plt\n",
        "import seaborn as sns\n",
        "from sklearn.model_selection import train_test_split\n",
        "\n",
        "import tensorflow as tf\n",
        "from tensorflow import keras\n",
        "from keras.optimizers import RMSprop, Adam\n",
        "from keras.layers import Dense,Flatten , Conv2D , MaxPooling2D , Dropout, Rescaling\n",
        "from keras.models import Model , Sequential\n",
        "from keras.callbacks import EarlyStopping\n",
        "from keras.utils import image_dataset_from_directory"
      ]
    },
    {
      "cell_type": "code",
      "execution_count": null,
      "metadata": {
        "colab": {
          "base_uri": "https://localhost:8080/"
        },
        "id": "6IWLpO8_IvpG",
        "outputId": "3960f066-7c50-4b53-c4e3-62edfddfb612"
      },
      "outputs": [],
      "source": [
        "data_dir = '../data/'\n",
        "train_ds = tf.keras.preprocessing.image_dataset_from_directory(\n",
        "    data_dir,\n",
        "    validation_split=0.2,\n",
        "    subset='training',\n",
        "    labels='inferred',\n",
        "    label_mode='categorical',\n",
        "    image_size=[224, 224],\n",
        "    seed=123,\n",
        "    interpolation='nearest',\n",
        "    batch_size=64,\n",
        "    shuffle=True,\n",
        ")\n",
        "\n",
        "val_ds = tf.keras.preprocessing.image_dataset_from_directory(\n",
        "    data_dir,\n",
        "    validation_split=0.2,\n",
        "    subset='validation',\n",
        "    labels='inferred',\n",
        "    label_mode='categorical',\n",
        "    image_size=[224, 224],\n",
        "    seed=123,\n",
        "    interpolation='nearest',\n",
        "    batch_size=64,\n",
        "    shuffle=False,\n",
        ")"
      ]
    },
    {
      "cell_type": "code",
      "execution_count": null,
      "metadata": {
        "id": "mUgmYrKuIvk3"
      },
      "outputs": [],
      "source": [
        "def convert_to_float(image, label):\n",
        "    image = tf.image.convert_image_dtype(image, dtype=tf.float32)\n",
        "    return image, label"
      ]
    },
    {
      "cell_type": "code",
      "execution_count": null,
      "metadata": {
        "id": "wpGqDQ0TIvj0"
      },
      "outputs": [],
      "source": [
        "AUTOTUNE = tf.data.experimental.AUTOTUNE\n",
        "train_ds = (train_ds.map(convert_to_float).cache().prefetch(buffer_size=AUTOTUNE))\n",
        "val_ds = (val_ds.map(convert_to_float).cache().prefetch(buffer_size=AUTOTUNE))"
      ]
    },
    {
      "attachments": {},
      "cell_type": "markdown",
      "metadata": {
        "id": "D78HwSB3Yw_w"
      },
      "source": [
        "### MobileNet Freezing 7"
      ]
    },
    {
      "cell_type": "code",
      "execution_count": null,
      "metadata": {},
      "outputs": [],
      "source": [
        "from keras.applications.mobilenet import MobileNet\n",
        "transfer_model = MobileNet(weights='imagenet', include_top=False, input_shape=(224,224,3))\n",
        "\n",
        "num = 1\n",
        "for layer in transfer_model.layers:\n",
        "  if num > 7:\n",
        "    layer.trainable = True\n",
        "  num += 1"
      ]
    },
    {
      "cell_type": "code",
      "execution_count": null,
      "metadata": {
        "colab": {
          "base_uri": "https://localhost:8080/",
          "height": 455
        },
        "id": "gyDpkRr_XH7s",
        "outputId": "f3c5c653-9d18-4032-842c-f08a16055e95"
      },
      "outputs": [],
      "source": [
        "model = Sequential()\n",
        "\n",
        "model.add(tf.keras.layers.experimental.preprocessing.Rescaling(1./255, input_shape=(224,224,3)))\n",
        "\n",
        "model.add(transfer_model)\n",
        "\n",
        "model.add(Conv2D(16, 3, padding='same', activation='relu')) \n",
        "model.add(MaxPooling2D(padding='same')) \n",
        "model.add(Dropout(0.2))\n",
        "\n",
        "model.add(Conv2D(32, 3, padding='same', activation='relu')) \n",
        "model.add(MaxPooling2D(padding='same'))\n",
        "\n",
        "model.add(Conv2D(64, 3, padding='same', activation='relu')) \n",
        "model.add(MaxPooling2D(padding='same')) \n",
        "model.add(Dropout(0.2))\n",
        "\n",
        "model.add(Flatten())\n",
        "\n",
        "model.add(Dense(128, activation='relu')) \n",
        "model.add(Dense(33 , activation = 'softmax'))\n",
        "\n",
        "model.compile(loss=tf.keras.losses.categorical_crossentropy, optimizer=Adam(learning_rate=0.0001), metrics=['accuracy'])"
      ]
    },
    {
      "cell_type": "code",
      "execution_count": null,
      "metadata": {},
      "outputs": [],
      "source": [
        "history = model.fit(train_ds,batch_size=64,epochs=20,validation_data=val_ds)"
      ]
    },
    {
      "cell_type": "code",
      "execution_count": null,
      "metadata": {
        "colab": {
          "base_uri": "https://localhost:8080/"
        },
        "id": "YWU-FTNORAtS",
        "outputId": "97a7b69a-73c4-4943-d6b9-f29e40d94289"
      },
      "outputs": [],
      "source": [
        "\n",
        "model.evaluate(train_ds),model.evaluate(val_ds)"
      ]
    },
    {
      "cell_type": "code",
      "execution_count": null,
      "metadata": {
        "colab": {
          "base_uri": "https://localhost:8080/",
          "height": 578
        },
        "id": "TTqKU-hmcUaN",
        "outputId": "3663117e-d6de-45d3-8ac0-e4e29a5bd453"
      },
      "outputs": [],
      "source": [
        "plt.style.use('fivethirtyeight')\n",
        "fig,axes=plt.subplots(nrows=1, ncols=2, figsize=(20,10))\n",
        "axes[0].plot(history.history[\"loss\"], 'r', label='Training loss')\n",
        "axes[0].plot(history.history[\"val_loss\"],'g',label='Validation loss' )\n",
        "axes[0].set_title('Mobilenet Model (Freezing before 8) Training and Validation Loss')\n",
        "axes[0].set_xlabel('Epochs')\n",
        "axes[0].set_ylabel('Loss')\n",
        "axes[0].legend()\n",
        "axes[1].plot (history.history[\"accuracy\"],'r',label= 'Training Accuracy')\n",
        "axes[1].plot (history.history[\"val_accuracy\"],'g',label= 'Validation Accuracy')\n",
        "axes[1].set_title('Mobilenet Model (Freezing before 8) Training and Validation Accuracy')\n",
        "axes[1].set_xlabel('Epochs')\n",
        "axes[1].set_ylabel('Accuracy')\n",
        "axes[1].legend()\n",
        "plt.savefig(\"/content/drive/MyDrive/Colab Notebooks/Mobilenet_Freezing_8_accuracy.jpg\")"
      ]
    },
    {
      "attachments": {},
      "cell_type": "markdown",
      "metadata": {
        "id": "D78HwSB3Yw_w"
      },
      "source": [
        "### MobileNet Freezing 14"
      ]
    },
    {
      "cell_type": "code",
      "execution_count": null,
      "metadata": {},
      "outputs": [],
      "source": [
        "from keras.applications.mobilenet import MobileNet\n",
        "transfer_model = MobileNet(weights='imagenet', include_top=False, input_shape=(224,224,3))\n",
        "\n",
        "num = 1\n",
        "for layer in transfer_model.layers:\n",
        "  if num > 14:\n",
        "    layer.trainable = True\n",
        "  num += 1"
      ]
    },
    {
      "cell_type": "code",
      "execution_count": null,
      "metadata": {
        "colab": {
          "base_uri": "https://localhost:8080/"
        },
        "id": "798-gVlQdqAi",
        "outputId": "7e675ef0-c7ad-4a81-c480-a7d8c2af172a"
      },
      "outputs": [],
      "source": [
        "model = Sequential()\n",
        "\n",
        "model.add(tf.keras.layers.experimental.preprocessing.Rescaling(1./255, input_shape=(224,224,3)))\n",
        "\n",
        "model.add(transfer_model)\n",
        "\n",
        "model.add(Conv2D(16, 3, padding='same', activation='relu')) \n",
        "model.add(MaxPooling2D(padding='same')) \n",
        "model.add(Dropout(0.2))\n",
        "\n",
        "model.add(Conv2D(32, 3, padding='same', activation='relu')) \n",
        "model.add(MaxPooling2D(padding='same'))\n",
        "\n",
        "model.add(Conv2D(64, 3, padding='same', activation='relu')) \n",
        "model.add(MaxPooling2D(padding='same')) \n",
        "model.add(Dropout(0.2))\n",
        "\n",
        "model.add(Flatten())\n",
        "\n",
        "model.add(Dense(128, activation='relu')) \n",
        "model.add(Dense(33 , activation = 'softmax'))\n",
        "\n",
        "model.compile(loss=tf.keras.losses.categorical_crossentropy, optimizer='adam', metrics=['accuracy'])"
      ]
    },
    {
      "cell_type": "code",
      "execution_count": null,
      "metadata": {},
      "outputs": [],
      "source": [
        "history = model.fit(train_ds,batch_size=64,epochs=20,validation_data=val_ds)"
      ]
    },
    {
      "cell_type": "code",
      "execution_count": null,
      "metadata": {
        "colab": {
          "base_uri": "https://localhost:8080/",
          "height": 345
        },
        "id": "1ROfqeM1dqDe",
        "outputId": "4ec72f35-573c-4258-c84a-e2a055897f87"
      },
      "outputs": [],
      "source": [
        "model.evaluate(train_ds),model.evaluate(val_ds)"
      ]
    }
  ],
  "metadata": {
    "accelerator": "GPU",
    "colab": {
      "provenance": []
    },
    "gpuClass": "standard",
    "kernelspec": {
      "display_name": "machine",
      "language": "python",
      "name": "python3"
    },
    "language_info": {
      "name": "python",
      "version": "3.9.13 | packaged by conda-forge | (main, May 27 2022, 17:00:33) \n[Clang 13.0.1 ]"
    },
    "vscode": {
      "interpreter": {
        "hash": "ba36d0bac3973a45270dac29dd7867478d264cacedda49a3de9c10c6ae4d60ef"
      }
    }
  },
  "nbformat": 4,
  "nbformat_minor": 0
}
