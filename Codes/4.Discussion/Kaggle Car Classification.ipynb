{
  "cells": [
    {
      "cell_type": "code",
      "execution_count": 1,
      "metadata": {
        "id": "UyFuMGdKwSN6"
      },
      "outputs": [],
      "source": [
        "import pandas as pd\n",
        "import pathlib\n",
        "import glob\n",
        "import os\n",
        "import random\n",
        "import cv2\n",
        "import numpy as np\n",
        "import matplotlib.pyplot as plt\n",
        "import seaborn as sns\n",
        "from sklearn.model_selection import train_test_split\n",
        "\n",
        "import tensorflow as tf\n",
        "from tensorflow import keras\n",
        "from keras.optimizers import RMSprop, Adam\n",
        "from keras.layers import Dense,Flatten , Conv2D , MaxPooling2D , Dropout, Rescaling\n",
        "from keras.models import Model , Sequential\n",
        "from keras.callbacks import EarlyStopping\n",
        "from keras.utils import image_dataset_from_directory"
      ]
    },
    {
      "cell_type": "code",
      "execution_count": null,
      "metadata": {
        "colab": {
          "base_uri": "https://localhost:8080/"
        },
        "id": "lS-q4Z5sZpAb",
        "outputId": "0a9c6750-dd72-40f7-dbff-0768c2d90742"
      },
      "outputs": [],
      "source": [
        "data_dir = './kaggle/' # (본인 자동차 이미지 폴더 경로)\n",
        "\n",
        "train_ds = image_dataset_from_directory( data_dir, validation_split=0.2, subset='training', labels='inferred',\n",
        "                                                               label_mode='categorical', image_size=[224, 224], seed=123, interpolation='nearest', batch_size=64, shuffle=True )\n",
        "\n",
        "val_ds = image_dataset_from_directory( data_dir, validation_split=0.2, subset='validation', labels='inferred',\n",
        "                                                             label_mode='categorical', image_size=[224, 224], seed=123, interpolation='nearest', batch_size=64, shuffle=False )\n",
        "\n",
        "def convert_to_float(image, label):\n",
        "  image = tf.image.convert_image_dtype(image, dtype=tf.float32)\n",
        "  return image, label\n",
        "\n",
        "AUTOTUNE = tf.data.experimental.AUTOTUNE \n",
        "train_ds = (train_ds.map(convert_to_float).cache().prefetch(buffer_size=AUTOTUNE)) \n",
        "val_ds = (val_ds.map(convert_to_float).cache().prefetch(buffer_size=AUTOTUNE))\n",
        "\n",
        "from keras.applications import DenseNet121\n",
        "base_model = DenseNet121(weights='imagenet', include_top=False, input_shape=(224,224,3))\n",
        "\n",
        "num = 1\n",
        "for layer in base_model.layers:\n",
        "    if num >= 144:\n",
        "      layer.trainable = True\n",
        "    else:\n",
        "      layer.trainable = False\n",
        "    num += 1\n",
        "\n",
        "model = Sequential()\n",
        "\n",
        "model.add(tf.keras.layers.experimental.preprocessing.Rescaling(1./255, input_shape=(224,224,3)))\n",
        "\n",
        "model.add(base_model)\n",
        "\n",
        "model.add(Conv2D(16, 3, padding='same', activation='relu'))\n",
        "model.add(MaxPooling2D(padding='same'))\n",
        "model.add(Dropout(0.2))\n",
        "\n",
        "model.add(Conv2D(32, 3, padding='same', activation='relu'))\n",
        "model.add(MaxPooling2D(padding='same'))\n",
        "\n",
        "model.add(Conv2D(64, 3, padding='same', activation='relu'))\n",
        "model.add(MaxPooling2D(padding='same'))\n",
        "model.add(Dropout(0.2))\n",
        "\n",
        "model.add(Flatten())\n",
        "\n",
        "model.add(Dense(128, activation='relu'))\n",
        "model.add(Dense(33 , activation = 'softmax'))\n",
        "\n",
        "model.compile(loss=tf.keras.losses.categorical_crossentropy,optimizer=tf.keras.optimizers.Adam(learning_rate=0.0001),metrics=['accuracy'])\n",
        "\n",
        "history = model.fit(train_ds,batch_size=64,epochs=40,validation_data=val_ds)\n"
      ]
    },
    {
      "cell_type": "code",
      "execution_count": null,
      "metadata": {
        "id": "mozEutKjW1bg"
      },
      "outputs": [],
      "source": [
        "model.evaluate(train_ds), model.evaluate(val_ds)"
      ]
    }
  ],
  "metadata": {
    "accelerator": "GPU",
    "colab": {
      "provenance": []
    },
    "gpuClass": "standard",
    "kernelspec": {
      "display_name": "Python 3.9.13 ('machine')",
      "language": "python",
      "name": "python3"
    },
    "language_info": {
      "codemirror_mode": {
        "name": "ipython",
        "version": 3
      },
      "file_extension": ".py",
      "mimetype": "text/x-python",
      "name": "python",
      "nbconvert_exporter": "python",
      "pygments_lexer": "ipython3",
      "version": "3.9.13 | packaged by conda-forge | (main, May 27 2022, 17:00:33) \n[Clang 13.0.1 ]"
    },
    "vscode": {
      "interpreter": {
        "hash": "ba36d0bac3973a45270dac29dd7867478d264cacedda49a3de9c10c6ae4d60ef"
      }
    }
  },
  "nbformat": 4,
  "nbformat_minor": 0
}
